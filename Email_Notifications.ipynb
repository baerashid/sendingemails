{
 "cells": [
  {
   "cell_type": "markdown",
   "metadata": {},
   "source": [
    "sending emails\n",
    "\n",
    "Create new google account, enable security settings:\n",
    "https://myaccount.google.com/lesssecureapps\n",
    "\n",
    "\n",
    "https://realpython.com/python-send-email/"
   ]
  },
  {
   "cell_type": "code",
   "execution_count": 1,
   "metadata": {},
   "outputs": [],
   "source": [
    "import smtplib, ssl"
   ]
  },
  {
   "cell_type": "code",
   "execution_count": 6,
   "metadata": {},
   "outputs": [],
   "source": [
    "sender_email = \"your@gmail.com\"\n",
    "receiver_email = \"receiver@gmail.com\"\n",
    "\n",
    "message = '''\\\n",
    "Subject: subject of the email\n",
    "\n",
    "Second test email\n",
    "'''\n",
    "\n",
    "port = 465  # For SSL\n",
    "password = input(\"Password: \")\n",
    "\n",
    "# Create a secure SSL context\n",
    "context = ssl.create_default_context()\n",
    "\n",
    "with smtplib.SMTP_SSL(\"smtp.gmail.com\", port, context=context) as server:\n",
    "    server.login(sender_email, password)\n",
    "    server.sendmail(sender_email, receiver_email, message)"
   ]
  },
  {
   "cell_type": "code",
   "execution_count": null,
   "metadata": {},
   "outputs": [],
   "source": []
  }
 ],
 "metadata": {
  "kernelspec": {
   "display_name": "Python 3",
   "language": "python",
   "name": "python3"
  },
  "language_info": {
   "codemirror_mode": {
    "name": "ipython",
    "version": 3
   },
   "file_extension": ".py",
   "mimetype": "text/x-python",
   "name": "python",
   "nbconvert_exporter": "python",
   "pygments_lexer": "ipython3",
   "version": "3.6.9"
  }
 },
 "nbformat": 4,
 "nbformat_minor": 2
}
